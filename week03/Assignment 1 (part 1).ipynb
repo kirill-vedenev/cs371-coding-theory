{
 "cells": [
  {
   "cell_type": "markdown",
   "id": "4e42d62d",
   "metadata": {},
   "source": [
    "## Индивидуальное задание 1 (часть 1)\n",
    "\n",
    "1. По заданной кодирующей матрице $G$ над полем $\\mathbb{F}_q$ построить проверочную матрицу. \n",
    "\n",
    "2. Постройте таблицу соответствия между синдромами и ошибками для всех ошибок веса $1$. Есть ли в этой таблице коллизии? Если есть, то какой вывод о минимальном кодовом расстоянии можно сделать?\n",
    "\n",
    "\n",
    "Представьте в отчёте полное решение (отчётом может быть и заполненное продолжение этого файла)."
   ]
  },
  {
   "cell_type": "code",
   "execution_count": 1,
   "id": "991b673c",
   "metadata": {},
   "outputs": [],
   "source": [
    "%display latex\n",
    "from IPython.display import display, Markdown\n",
    "\n",
    "fio = 'Фамилия И.О' #отредактировать тут\n",
    "\n",
    "import hashlib\n",
    "seed = int(hashlib.blake2b(bytes(fio, 'utf-8')).hexdigest(), 16)\n",
    "set_random_seed(seed)"
   ]
  },
  {
   "cell_type": "code",
   "execution_count": 2,
   "id": "7a40e8e6",
   "metadata": {},
   "outputs": [
    {
     "data": {
      "text/markdown": [
       "В качестве поля используется $\\Bold{F}_{3^{2}}$,\n",
       "                 а в качестве неприводимого многочлена (если q не простое) - $z^{2} + 2 z + 2$\n",
       "                 "
      ],
      "text/plain": [
       "<IPython.core.display.Markdown object>"
      ]
     },
     "metadata": {},
     "output_type": "display_data"
    }
   ],
   "source": [
    "q = choice([4, 7, 8, 8, 8, 9, 11, 13, 17, 19])\n",
    "F.<z> = GF(q)\n",
    "\n",
    "display(Markdown(f\"\"\"В качестве поля используется ${latex(F)}$,\n",
    "                 а в качестве неприводимого многочлена (если q не простое) - ${latex(F.polynomial())}$\n",
    "                 \"\"\"))"
   ]
  },
  {
   "cell_type": "code",
   "execution_count": 3,
   "id": "17bce5b2",
   "metadata": {},
   "outputs": [
    {
     "data": {
      "text/html": [
       "<html><script type=\"math/tex; mode=display\">\\newcommand{\\Bold}[1]{\\mathbf{#1}}\\left(\\begin{array}{rrrrrrrr}\n",
       "z + 1 & z + 1 & z + 2 & z + 2 & 1 & 2 z + 1 & z & 1 \\\\\n",
       "2 & z + 2 & z + 2 & z + 1 & 1 & z + 2 & 1 & 0 \\\\\n",
       "2 z + 2 & z + 2 & 2 & z & z + 1 & 0 & 2 & 2 z + 1 \\\\\n",
       "2 z & 2 z + 2 & z + 1 & z & 2 & z + 2 & z + 2 & 0\n",
       "\\end{array}\\right)</script></html>"
      ],
      "text/latex": [
       "$$\\newcommand{\\Bold}[1]{\\mathbf{#1}}\\left(\\begin{array}{rrrrrrrr}\n",
       "z + 1 & z + 1 & z + 2 & z + 2 & 1 & 2 z + 1 & z & 1 \\\\\n",
       "2 & z + 2 & z + 2 & z + 1 & 1 & z + 2 & 1 & 0 \\\\\n",
       "2 z + 2 & z + 2 & 2 & z & z + 1 & 0 & 2 & 2 z + 1 \\\\\n",
       "2 z & 2 z + 2 & z + 1 & z & 2 & z + 2 & z + 2 & 0\n",
       "\\end{array}\\right)$$"
      ],
      "text/plain": [
       "[  z + 1   z + 1   z + 2   z + 2       1 2*z + 1       z       1]\n",
       "[      2   z + 2   z + 2   z + 1       1   z + 2       1       0]\n",
       "[2*z + 2   z + 2       2       z   z + 1       0       2 2*z + 1]\n",
       "[    2*z 2*z + 2   z + 1       z       2   z + 2   z + 2       0]"
      ]
     },
     "execution_count": 3,
     "metadata": {},
     "output_type": "execute_result"
    }
   ],
   "source": [
    "# генерация матрицы G\n",
    "rand_nonzero = lambda: F.multiplicative_generator()^randint(0, q-1)\n",
    "A = matrix([[1,0,0,rand_nonzero()], [0,1,0,rand_nonzero()], [0,0,1,rand_nonzero()]])\n",
    "B = matrix([rand_nonzero() for i in range(4)])\n",
    "D1 = [1,1,1,1]; D2=D1; D3=D1; \n",
    "D4 = [F.multiplicative_generator()^randint(1, q-2) for i in range(4)]\n",
    "G = random_matrix(F, 4, algorithm=\"unimodular\") * block_matrix([\n",
    "    [A * diagonal_matrix(F, D1), A*diagonal_matrix(D2)],\n",
    "    [B * diagonal_matrix(D3), B*diagonal_matrix(D4)],\n",
    "]) * diagonal_matrix([rand_nonzero() for i in range(8)])\n",
    "G.permute_columns(Permutations(8).random_element())\n",
    "G"
   ]
  },
  {
   "cell_type": "code",
   "execution_count": 4,
   "id": "63fcf54b",
   "metadata": {},
   "outputs": [
    {
     "data": {
      "text/html": [
       "<html><script type=\"math/tex; mode=display\">\\newcommand{\\Bold}[1]{\\mathbf{#1}}\\left(\\begin{array}{rrrrr}\n",
       "1 & 0 & 0 & 0 & 0 \\\\\n",
       "0 & 1 & 0 & 0 & 0 \\\\\n",
       "0 & 0 & 1 & 0 & 0 \\\\\n",
       "0 & 0 & 0 & 1 & 0 \\\\\n",
       "0 & 0 & 0 & 0 & 1\n",
       "\\end{array}\\right)</script></html>"
      ],
      "text/latex": [
       "$$\\newcommand{\\Bold}[1]{\\mathbf{#1}}\\left(\\begin{array}{rrrrr}\n",
       "1 & 0 & 0 & 0 & 0 \\\\\n",
       "0 & 1 & 0 & 0 & 0 \\\\\n",
       "0 & 0 & 1 & 0 & 0 \\\\\n",
       "0 & 0 & 0 & 1 & 0 \\\\\n",
       "0 & 0 & 0 & 0 & 1\n",
       "\\end{array}\\right)$$"
      ],
      "text/plain": [
       "[1 0 0 0 0]\n",
       "[0 1 0 0 0]\n",
       "[0 0 1 0 0]\n",
       "[0 0 0 1 0]\n",
       "[0 0 0 0 1]"
      ]
     },
     "metadata": {},
     "output_type": "display_data"
    },
    {
     "data": {
      "text/html": [
       "<html><script type=\"math/tex; mode=display\">\\newcommand{\\Bold}[1]{\\mathbf{#1}}\\left(\\begin{array}{rrrrr}\n",
       "1 & 0 & 0 & 0 & 0 \\\\\n",
       "4 & 1 & 0 & 0 & 0 \\\\\n",
       "0 & 0 & 1 & 0 & 0 \\\\\n",
       "0 & 0 & 0 & 1 & 0 \\\\\n",
       "0 & 0 & 0 & 0 & 1\n",
       "\\end{array}\\right)</script></html>"
      ],
      "text/latex": [
       "$$\\newcommand{\\Bold}[1]{\\mathbf{#1}}\\left(\\begin{array}{rrrrr}\n",
       "1 & 0 & 0 & 0 & 0 \\\\\n",
       "4 & 1 & 0 & 0 & 0 \\\\\n",
       "0 & 0 & 1 & 0 & 0 \\\\\n",
       "0 & 0 & 0 & 1 & 0 \\\\\n",
       "0 & 0 & 0 & 0 & 1\n",
       "\\end{array}\\right)$$"
      ],
      "text/plain": [
       "[1 0 0 0 0]\n",
       "[4 1 0 0 0]\n",
       "[0 0 1 0 0]\n",
       "[0 0 0 1 0]\n",
       "[0 0 0 0 1]"
      ]
     },
     "metadata": {},
     "output_type": "display_data"
    }
   ],
   "source": [
    "# при выполнении задания можно использовать SageMath\n",
    "# например, элементарные преобразования строк реализуются\n",
    "A = identity_matrix(5)\n",
    "display(A)\n",
    "A.add_multiple_of_row(1,0,4) #добавляет к первой строке нулевую, умноженную на 4\n",
    "display(A)"
   ]
  },
  {
   "cell_type": "markdown",
   "id": "6cd82900",
   "metadata": {},
   "source": [
    "*Ещё некоторые полезные советы:* список методов для какого-то объекта можно посмотреть, например, введя\n",
    "```\n",
    "A.\n",
    "```\n",
    "и нажав TAB. В свою очередь, документация доступна по команде ?\n",
    "```\n",
    "?A.add_multiple_of_row\n",
    "?A\n",
    "```"
   ]
  },
  {
   "cell_type": "code",
   "execution_count": null,
   "id": "8238f2c6",
   "metadata": {},
   "outputs": [],
   "source": []
  },
  {
   "cell_type": "code",
   "execution_count": null,
   "id": "c92b46e0",
   "metadata": {},
   "outputs": [],
   "source": []
  }
 ],
 "metadata": {
  "kernelspec": {
   "display_name": "SageMath 9.5",
   "language": "sage",
   "name": "sagemath"
  },
  "language_info": {
   "codemirror_mode": {
    "name": "ipython",
    "version": 3
   },
   "file_extension": ".py",
   "mimetype": "text/x-python",
   "name": "python",
   "nbconvert_exporter": "python",
   "pygments_lexer": "ipython3",
   "version": "3.10.6"
  }
 },
 "nbformat": 4,
 "nbformat_minor": 5
}
